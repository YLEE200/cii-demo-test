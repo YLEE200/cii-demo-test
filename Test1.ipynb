{
 "cells": [
  {
   "cell_type": "code",
   "execution_count": null,
   "metadata": {
    "collapsed": true
   },
   "outputs": [],
   "source": [
    "# two local csv files loaded from desktop and pandas-dataframed by using one click button\n",
    "# merge two csv files\n",
    "# write the merged file to csv format\n",
    "from io import StringIO\n",
    "import requests\n",
    "import json\n",
    "import pandas as pd\n",
    "\n",
    "# @hidden_cell\n",
    "# This function accesses a file in your Object Storage. The definition contains your credentials.\n",
    "# You might want to remove those credentials before you share your notebook.\n",
    "def get_object_storage_file_with_credentials_fcf1c90868844bc1ab7d4fffe6063140(container, filename):\n",
    "    \"\"\"This functions returns a StringIO object containing\n",
    "    the file content from Bluemix Object Storage.\"\"\"\n",
    "\n",
    "    url1 = ''.join(['https://identity.open.softlayer.com', '/v3/auth/tokens'])\n",
    "    data = {'auth': {'identity': {'methods': ['password'],\n",
    "            'password': {'user': {'name': 'member_1fd445c3b67620d21c5874b9c29e9fbf561cebb6','domain': {'id': '20b49a5877434f9486aa2a1d2fcdd21c'},\n",
    "            'password': 'i&g.LVqvB1Hv_1~X'}}}}}\n",
    "    headers1 = {'Content-Type': 'application/json'}\n",
    "    resp1 = requests.post(url=url1, data=json.dumps(data), headers=headers1)\n",
    "    resp1_body = resp1.json()\n",
    "    for e1 in resp1_body['token']['catalog']:\n",
    "        if(e1['type']=='object-store'):\n",
    "            for e2 in e1['endpoints']:\n",
    "                        if(e2['interface']=='public'and e2['region']=='dallas'):\n",
    "                            url2 = ''.join([e2['url'],'/', container, '/', filename])\n",
    "    s_subject_token = resp1.headers['x-subject-token']\n",
    "    headers2 = {'X-Auth-Token': s_subject_token, 'accept': 'application/json'}\n",
    "    resp2 = requests.get(url=url2, headers=headers2)\n",
    "    return StringIO(resp2.text)\n",
    "\n",
    "df_data_1 = pd.read_csv(get_object_storage_file_with_credentials_fcf1c90868844bc1ab7d4fffe6063140('newciidemotest', 'cii_input1.csv'))\n",
    "df_data_2 = pd.read_csv(get_object_storage_file_with_credentials_fcf1c90868844bc1ab7d4fffe6063140('newciidemotest', 'cii_input2.csv'))\n",
    "\n",
    "# if the matching key, in this case, the INSURANCE_POLICY_ID was read in as a xbf format, you may need to reformat it as follows.\n",
    "df_data_1.rename(columns={'﻿INSURANCE_POLICY_ID':'INSURANCE_POLICY_ID'}, inplace=True)\n",
    "df_data_2.rename(columns={'﻿INSURANCE_POLICY_ID':'INSURANCE_POLICY_ID'}, inplace=True)\n",
    "\n",
    "#df_data_2.head()\n",
    "m = pd.merge(df_data_1, df_data_2, how = 'inner', on = 'INSURANCE_POLICY_ID')\n",
    "#m.dtypes\n",
    "\n",
    "m.to_csv('merge_ab_chyl1.csv', index = False)"
   ]
  }
 ],
 "metadata": {
  "kernelspec": {
   "display_name": "Python 2 with Spark 2.0",
   "language": "python",
   "name": "python2-spark20"
  },
  "language_info": {
   "codemirror_mode": {
    "name": "ipython",
    "version": 2
   },
   "file_extension": ".py",
   "mimetype": "text/x-python",
   "name": "python",
   "nbconvert_exporter": "python",
   "pygments_lexer": "ipython2",
   "version": "2.7.11"
  }
 },
 "nbformat": 4,
 "nbformat_minor": 1
}

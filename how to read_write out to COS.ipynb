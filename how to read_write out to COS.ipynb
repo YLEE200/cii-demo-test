{
 "cells": [
  {
   "cell_type": "code",
   "execution_count": 27,
   "metadata": {},
   "outputs": [
    {
     "data": {
      "text/plain": [
       "(331, 39)"
      ]
     },
     "execution_count": 27,
     "metadata": {},
     "output_type": "execute_result"
    }
   ],
   "source": [
    "import os\n",
    "import pandas as pd\n",
    "import boto3\n",
    "from io import StringIO\n",
    "import requests\n",
    "import json\n",
    "\n",
    "\n",
    "# @hidden_cell\n",
    "# The following code accesses a file in your IBM Cloud Object Storage. It includes your credentials.\n",
    "# You might want to remove those credentials before you share your notebook.\n",
    "\n",
    "os.environ['AWS_ACCESS_KEY_ID'] = '68n7GYTRYfSDfeQRPlsW'\n",
    "os.environ['AWS_SECRET_ACCESS_KEY'] = 'NAymzuNHGudPpmmALLUP83ZtF6jrCth9AtEyrHly'\n",
    "endpoint = 'https://s3-api.dal-us-geo.objectstorage.softlayer.net/'\n",
    "bucket = 'tkcos90bd2b3d46404458b8643a75b6897e6c'\n",
    "cos_51fd21f00433421d8060e69f51aec41c = boto3.resource('s3', endpoint_url=endpoint)\n",
    "\n",
    "df_data_1 = pd.read_csv(cos_51fd21f00433421d8060e69f51aec41c.Object(bucket,'cii_input1.csv').get()['Body'])\n",
    "df_data_2 = pd.read_csv(cos_51fd21f00433421d8060e69f51aec41c.Object(bucket,'cii_input2.csv').get()['Body'])\n",
    "\n",
    "# if the matching key, in this case, the INSURANCE_POLICY_ID was read in as a xbf format, you may need to reformat it as follows.\n",
    "df_data_1.rename(columns={'﻿INSURANCE_POLICY_ID':'INSURANCE_POLICY_ID'}, inplace=True)\n",
    "df_data_2.rename(columns={'﻿INSURANCE_POLICY_ID':'INSURANCE_POLICY_ID'}, inplace=True)\n",
    "\n",
    "#df_data_2.tail()\n",
    "m = pd.merge(df_data_1, df_data_2, how = 'inner', on = 'INSURANCE_POLICY_ID')\n",
    "#m = pd.merge(df_data_1, df_data_2, how = 'inner')\n",
    "#m.dtypes\n",
    "\n",
    "m.to_csv('merge_ab_chyl3.csv', index = False)\n",
    "m.shape\n"
   ]
  },
  {
   "cell_type": "code",
   "execution_count": 28,
   "metadata": {},
   "outputs": [
    {
     "data": {
      "text/plain": [
       "s3.Object(bucket_name='tkcos90bd2b3d46404458b8643a75b6897e6c', key='merge_ab_chyl3.csv')"
      ]
     },
     "execution_count": 28,
     "metadata": {},
     "output_type": "execute_result"
    }
   ],
   "source": [
    "data = open('merge_ab_chyl3.csv', 'rb')\n",
    "cos_51fd21f00433421d8060e69f51aec41c.Bucket(bucket).put_object(Key='merge_ab_chyl3.csv', Body=data) "
   ]
  },
  {
   "cell_type": "code",
   "execution_count": null,
   "metadata": {
    "collapsed": true
   },
   "outputs": [],
   "source": [
    "# read in the contents of the COS bucket\n",
    "\n",
    "# from the orginal code\n",
    "#import boto3\n",
    "#endpoint = 'https://s3-api.us-geo.objectstorage.softlayer.net'\n",
    "#cos = boto3.resource('s3', endpoint_url=endpoint)\n",
    "\n",
    "for bucket in cos_51fd21f00433421d8060e69f51aec41c.buckets.all():\n",
    "    print(bucket.name)\n",
    "    for obj in bucket.objects.all():\n",
    "        print(\"  - %s\") % obj.key"
   ]
  }
 ],
 "metadata": {
  "kernelspec": {
   "display_name": "Python 2 with Spark 2.0",
   "language": "python",
   "name": "python2-spark20"
  },
  "language_info": {
   "codemirror_mode": {
    "name": "ipython",
    "version": 2
   },
   "file_extension": ".py",
   "mimetype": "text/x-python",
   "name": "python",
   "nbconvert_exporter": "python",
   "pygments_lexer": "ipython2",
   "version": "2.7.11"
  }
 },
 "nbformat": 4,
 "nbformat_minor": 1
}

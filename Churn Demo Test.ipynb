{
    "nbformat_minor": 1, 
    "cells": [
        {
            "outputs": [], 
            "cell_type": "code", 
            "metadata": {
                "collapsed": true
            }, 
            "execution_count": 6, 
            "source": "-"
        }, 
        {
            "outputs": [], 
            "cell_type": "code", 
            "metadata": {
                "collapsed": true
            }, 
            "execution_count": 8, 
            "source": "#create a put function \n\ndef put_file(credentials, local_file_name):  \n    \"\"\"This functions returns a StringIO object containing\n    the file content from Bluemix Object Storage V3.\"\"\"\n    f = open(local_file_name,'r')\n    my_data = f.read()\n    url1 = ''.join(['https://identity.open.softlayer.com', '/v3/auth/tokens'])\n    data = {'auth': {'identity': {'methods': ['password'],\n            'password': {'user': {'name': credentials['username'],'domain': {'id': credentials['domain_id']},\n            'password': credentials['password']}}}}}\n    headers1 = {'Content-Type': 'application/json'}\n    resp1 = requests.post(url=url1, data=json.dumps(data), headers=headers1)\n    resp1_body = resp1.json()\n    for e1 in resp1_body['token']['catalog']:\n        if(e1['type']=='object-store'):\n            for e2 in e1['endpoints']:\n                        if(e2['interface']=='public'and e2['region']=='dallas'):\n                            url2 = ''.join([e2['url'],'/', credentials['container'], '/', local_file_name])\n    s_subject_token = resp1.headers['x-subject-token']\n    headers2 = {'X-Auth-Token': s_subject_token, 'accept': 'application/json'}\n    resp2 = requests.put(url=url2, headers=headers2, data = my_data )\n    print resp2"
        }, 
        {
            "outputs": [
                {
                    "name": "stdout", 
                    "output_type": "stream", 
                    "text": "<Response [201]>\n"
                }
            ], 
            "cell_type": "code", 
            "metadata": {}, 
            "execution_count": 9, 
            "source": "# insert one of the data credentials and modify it with merged file credential\n# put the file into the attached Bluemix Obj Storage (Swift obj storage)\n\n\ncredentials_1 = {\n  'auth_url':'https://identity.open.softlayer.com',\n  'project':'object_storage_fcf1c908_6884_4bc1_ab7d_4fffe6063140',\n  'project_id':'f1a0c90407004288832edb2eebb37f36',\n  'region':'dallas',\n  'user_id':'7b5db9aabbb34e558bf778a623ce0106',\n  'domain_id':'20b49a5877434f9486aa2a1d2fcdd21c',\n  'domain_name':'1316891',\n  'username':'member_1fd445c3b67620d21c5874b9c29e9fbf561cebb6',\n  'password':\"\"\"i&g.LVqvB1Hv_1~X\"\"\",\n  'container':'newciidemotest',\n  'tenantId':'undefined',\n  'filename':'merge_ab_chyl1.csv'\n}\n\nput_file(credentials_1, 'merge_ab_chyl1.csv')\n\n# if you like to load the merged file to a COS.... \n# you can download it to local desktop first\n# then upload it to your COS via softlayer portal or via attaching the COS to a new project + add the file from local"
        }, 
        {
            "outputs": [
                {
                    "output_type": "execute_result", 
                    "metadata": {}, 
                    "data": {
                        "text/plain": "(331, 39)"
                    }, 
                    "execution_count": 10
                }
            ], 
            "cell_type": "code", 
            "metadata": {}, 
            "execution_count": 10, 
            "source": "m1 = pd.read_csv('merge_ab_chyl1.csv')\nm1.shape"
        }, 
        {
            "outputs": [], 
            "cell_type": "code", 
            "metadata": {
                "collapsed": true
            }, 
            "execution_count": null, 
            "source": ""
        }
    ], 
    "metadata": {
        "kernelspec": {
            "display_name": "Python 2 with Spark 2.0", 
            "name": "python2-spark20", 
            "language": "python"
        }, 
        "language_info": {
            "mimetype": "text/x-python", 
            "version": "2.7.11", 
            "pygments_lexer": "ipython2", 
            "name": "python", 
            "nbconvert_exporter": "python", 
            "file_extension": ".py", 
            "codemirror_mode": {
                "name": "ipython", 
                "version": 2
            }
        }
    }, 
    "nbformat": 4
}